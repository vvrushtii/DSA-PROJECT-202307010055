{
  "nbformat": 4,
  "nbformat_minor": 0,
  "metadata": {
    "colab": {
      "provenance": []
    },
    "kernelspec": {
      "name": "python3",
      "display_name": "Python 3"
    },
    "language_info": {
      "name": "python"
    }
  },
  "cells": [
    {
      "cell_type": "code",
      "execution_count": null,
      "metadata": {
        "id": "kRXZpmo8w58-",
        "colab": {
          "base_uri": "https://localhost:8080/"
        },
        "outputId": "f0257f08-56ab-4edd-8731-f58b2bd72ef9"
      },
      "outputs": [
        {
          "output_type": "stream",
          "name": "stdout",
          "text": [
            "\n",
            "1. Enqueue\n",
            "2. Dequeue\n",
            "3. Peek\n",
            "4. Display Queue\n",
            "5. Check if Queue is Empty\n",
            "6. Check if Queue is Full\n",
            "7. Exit\n"
          ]
        }
      ],
      "source": [
        "#IMPLEMENTATION OF SIMPLE QUEUE\n",
        "queue = []\n",
        "\n",
        "# To display the queue\n",
        "def display_queue(queue):\n",
        "    print(\"\\nCurrent queue:\", queue)\n",
        "\n",
        "# To enqueue or add an element to the queue\n",
        "def enqueue(queue, item):\n",
        "    queue.append(item)\n",
        "    print(\"Enqueued item:\", item)\n",
        "\n",
        "# Function to dequeue or remove an element from the queue\n",
        "def dequeue(queue):\n",
        "    if not queue:\n",
        "        print(\"Queue is empty. Cannot dequeue.\")\n",
        "        return None\n",
        "    front_item = queue.pop(0)\n",
        "    print(\"Dequeued item:\", front_item)\n",
        "\n",
        "# Function to peek at the front element without removing it\n",
        "def peek(queue):\n",
        "    if not queue:\n",
        "        print(\"Queue is empty. No front item.\")\n",
        "        return None\n",
        "    print(\"Front item:\", queue[0])\n",
        "\n",
        "# Function to check if the queue is empty\n",
        "def isEmpty(queue):\n",
        "    if not queue:\n",
        "        print(\"Queue is empty.\")\n",
        "    else:\n",
        "        print(\"Queue is not empty.\")\n",
        "\n",
        "# Function to check if the queue is full or not\n",
        "def isFull(queue):\n",
        "    print(\"Queue is never full in this implementation.\")\n",
        "\n",
        "# User input for the queue implementatio\n",
        "if __name__ == \"__main__\":\n",
        "    while True:\n",
        "        print(\"\\n1. Enqueue\")\n",
        "        print(\"2. Dequeue\")\n",
        "        print(\"3. Peek\")\n",
        "        print(\"4. Display Queue\")\n",
        "        print(\"5. Check if Queue is Empty\")\n",
        "        print(\"6. Check if Queue is Full\")\n",
        "        print(\"7. Exit\")\n",
        "\n",
        "        choice = input(\"Enter your choice: \")\n",
        "\n",
        "        if choice == '1':\n",
        "            item = input(\"Enter the item to enqueue: \")\n",
        "            enqueue(queue, item)\n",
        "        elif choice == '2':\n",
        "            dequeue(queue)\n",
        "        elif choice == '3':\n",
        "            peek(queue)\n",
        "        elif choice == '4':\n",
        "            display_queue(queue)\n",
        "        elif choice == '5':\n",
        "            isEmpty(queue)\n",
        "        elif choice == '6':\n",
        "            isFull(queue)\n",
        "        elif choice == '7':\n",
        "            print(\"Exiting...\")\n",
        "            break\n",
        "        else:\n",
        "            print(\"Invalid choice. Please enter a valid option.\")\n"
      ]
    }
  ]
}